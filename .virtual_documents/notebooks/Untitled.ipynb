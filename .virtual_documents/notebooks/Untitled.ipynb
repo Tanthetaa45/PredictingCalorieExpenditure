import pandas as pd
import os


DATA_PATH = "/Volumes/Extreme SSD/calorieEstimator/data/data"


train_df = pd.read_csv(os.path.join(DATA_PATH, "train.csv"))
test_df = pd.read_csv(os.path.join(DATA_PATH, "test.csv"))
sample_submission = pd.read_csv(os.path.join(DATA_PATH, "sample_submission.csv"))


print("Train Shape:", train_df.shape)
print("Test Shape:", test_df.shape)
print("Sample Submission Shape:", sample_submission.shape)


print("\nTrain Head:")
print(train_df.head())


print("\nMissing Values:")
print(train_df.isnull().sum())


print("\nData Types:")
print(train_df.dtypes)



!pip install seaborn


import numpy as np
import pandas as pd
import seaborn as sns
import matplotlib.pyplot as plt

from sklearn.model_selection import KFold
from sklearn.metrics import mean_squared_error
from sklearn.preprocessing import LabelEncoder, StandardScaler, KBinsDiscretizer
from sklearn.decomposition import PCA
from sklearn.cluster import KMeans

from catboost import CatBoostRegressor
from xgboost import XGBRegressor
from lightgbm import LGBMRegressor


import warnings
warnings.filterwarnings("ignore")


print(train_df.describe())



