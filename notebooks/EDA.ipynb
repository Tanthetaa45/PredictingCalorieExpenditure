{
 "cells": [
  {
   "cell_type": "code",
   "execution_count": 1,
   "id": "f83ccc2f-6e3a-439c-8de9-f62dc6edd92e",
   "metadata": {},
   "outputs": [
    {
     "name": "stdout",
     "output_type": "stream",
     "text": [
      "Train Shape: (750000, 9)\n",
      "Test Shape: (250000, 8)\n",
      "Sample Submission Shape: (250000, 2)\n",
      "\n",
      "Train Head:\n",
      "   id     Sex  Age  Height  Weight  Duration  Heart_Rate  Body_Temp  Calories\n",
      "0   0    male   36   189.0    82.0      26.0       101.0       41.0     150.0\n",
      "1   1  female   64   163.0    60.0       8.0        85.0       39.7      34.0\n",
      "2   2  female   51   161.0    64.0       7.0        84.0       39.8      29.0\n",
      "3   3    male   20   192.0    90.0      25.0       105.0       40.7     140.0\n",
      "4   4  female   38   166.0    61.0      25.0       102.0       40.6     146.0\n",
      "\n",
      "Missing Values:\n",
      "id            0\n",
      "Sex           0\n",
      "Age           0\n",
      "Height        0\n",
      "Weight        0\n",
      "Duration      0\n",
      "Heart_Rate    0\n",
      "Body_Temp     0\n",
      "Calories      0\n",
      "dtype: int64\n",
      "\n",
      "Data Types:\n",
      "id              int64\n",
      "Sex            object\n",
      "Age             int64\n",
      "Height        float64\n",
      "Weight        float64\n",
      "Duration      float64\n",
      "Heart_Rate    float64\n",
      "Body_Temp     float64\n",
      "Calories      float64\n",
      "dtype: object\n"
     ]
    }
   ],
   "source": [
    "import pandas as pd\n",
    "import os\n",
    "\n",
    "\n",
    "DATA_PATH = \"/Volumes/Extreme SSD/calorieEstimator/data/data\"\n",
    "\n",
    "\n",
    "train_df = pd.read_csv(os.path.join(DATA_PATH, \"train.csv\"))\n",
    "test_df = pd.read_csv(os.path.join(DATA_PATH, \"test.csv\"))\n",
    "sample_submission = pd.read_csv(os.path.join(DATA_PATH, \"sample_submission.csv\"))\n",
    "\n",
    "\n",
    "print(\"Train Shape:\", train_df.shape)\n",
    "print(\"Test Shape:\", test_df.shape)\n",
    "print(\"Sample Submission Shape:\", sample_submission.shape)\n",
    "\n",
    "\n",
    "print(\"\\nTrain Head:\")\n",
    "print(train_df.head())\n",
    "\n",
    "\n",
    "print(\"\\nMissing Values:\")\n",
    "print(train_df.isnull().sum())\n",
    "\n",
    "\n",
    "print(\"\\nData Types:\")\n",
    "print(train_df.dtypes)\n"
   ]
  },
  {
   "cell_type": "code",
   "execution_count": 4,
   "id": "d687605e-5370-4340-84ec-c3977cee1317",
   "metadata": {},
   "outputs": [
    {
     "name": "stdout",
     "output_type": "stream",
     "text": [
      "Collecting seaborn\n",
      "  Using cached seaborn-0.13.2-py3-none-any.whl.metadata (5.4 kB)\n",
      "Requirement already satisfied: numpy!=1.24.0,>=1.20 in /opt/anaconda3/envs/calorie-env/lib/python3.10/site-packages (from seaborn) (1.26.4)\n",
      "Requirement already satisfied: pandas>=1.2 in /opt/anaconda3/envs/calorie-env/lib/python3.10/site-packages (from seaborn) (2.2.3)\n",
      "Requirement already satisfied: matplotlib!=3.6.1,>=3.4 in /opt/anaconda3/envs/calorie-env/lib/python3.10/site-packages (from seaborn) (3.10.0)\n",
      "Requirement already satisfied: contourpy>=1.0.1 in /opt/anaconda3/envs/calorie-env/lib/python3.10/site-packages (from matplotlib!=3.6.1,>=3.4->seaborn) (1.3.1)\n",
      "Requirement already satisfied: cycler>=0.10 in /opt/anaconda3/envs/calorie-env/lib/python3.10/site-packages (from matplotlib!=3.6.1,>=3.4->seaborn) (0.12.1)\n",
      "Requirement already satisfied: fonttools>=4.22.0 in /opt/anaconda3/envs/calorie-env/lib/python3.10/site-packages (from matplotlib!=3.6.1,>=3.4->seaborn) (4.25.0)\n",
      "Requirement already satisfied: kiwisolver>=1.3.1 in /opt/anaconda3/envs/calorie-env/lib/python3.10/site-packages (from matplotlib!=3.6.1,>=3.4->seaborn) (1.4.8)\n",
      "Requirement already satisfied: packaging>=20.0 in /opt/anaconda3/envs/calorie-env/lib/python3.10/site-packages (from matplotlib!=3.6.1,>=3.4->seaborn) (24.2)\n",
      "Requirement already satisfied: pillow>=8 in /opt/anaconda3/envs/calorie-env/lib/python3.10/site-packages (from matplotlib!=3.6.1,>=3.4->seaborn) (11.1.0)\n",
      "Requirement already satisfied: pyparsing>=2.3.1 in /opt/anaconda3/envs/calorie-env/lib/python3.10/site-packages (from matplotlib!=3.6.1,>=3.4->seaborn) (3.2.3)\n",
      "Requirement already satisfied: python-dateutil>=2.7 in /opt/anaconda3/envs/calorie-env/lib/python3.10/site-packages (from matplotlib!=3.6.1,>=3.4->seaborn) (2.9.0.post0)\n",
      "Requirement already satisfied: pytz>=2020.1 in /opt/anaconda3/envs/calorie-env/lib/python3.10/site-packages (from pandas>=1.2->seaborn) (2024.1)\n",
      "Requirement already satisfied: tzdata>=2022.7 in /opt/anaconda3/envs/calorie-env/lib/python3.10/site-packages (from pandas>=1.2->seaborn) (2025.2)\n",
      "Requirement already satisfied: six>=1.5 in /opt/anaconda3/envs/calorie-env/lib/python3.10/site-packages (from python-dateutil>=2.7->matplotlib!=3.6.1,>=3.4->seaborn) (1.17.0)\n",
      "Using cached seaborn-0.13.2-py3-none-any.whl (294 kB)\n",
      "Installing collected packages: seaborn\n",
      "Successfully installed seaborn-0.13.2\n"
     ]
    }
   ],
   "source": [
    "!pip install seaborn"
   ]
  },
  {
   "cell_type": "code",
   "execution_count": 5,
   "id": "702eb227-69dc-455c-a3e4-4a0b828e6b0f",
   "metadata": {},
   "outputs": [],
   "source": [
    "import numpy as np\n",
    "import pandas as pd\n",
    "import seaborn as sns\n",
    "import matplotlib.pyplot as plt\n",
    "\n",
    "from sklearn.model_selection import KFold\n",
    "from sklearn.metrics import mean_squared_error\n",
    "from sklearn.preprocessing import LabelEncoder, StandardScaler, KBinsDiscretizer\n",
    "from sklearn.decomposition import PCA\n",
    "from sklearn.cluster import KMeans\n",
    "\n",
    "from catboost import CatBoostRegressor\n",
    "from xgboost import XGBRegressor\n",
    "from lightgbm import LGBMRegressor\n",
    "\n",
    "\n",
    "import warnings\n",
    "warnings.filterwarnings(\"ignore\")"
   ]
  },
  {
   "cell_type": "code",
   "execution_count": 41,
   "id": "cc0e4dcb-45ae-4216-b270-838db6de8e39",
   "metadata": {},
   "outputs": [
    {
     "name": "stdout",
     "output_type": "stream",
     "text": [
      "                  id            Age         Height         Weight  \\\n",
      "count  750000.000000  750000.000000  750000.000000  750000.000000   \n",
      "mean   374999.500000      41.420404     174.697685      75.145668   \n",
      "std    216506.495284      15.175049      12.824496      13.982704   \n",
      "min         0.000000      20.000000     126.000000      36.000000   \n",
      "25%    187499.750000      28.000000     164.000000      63.000000   \n",
      "50%    374999.500000      40.000000     174.000000      74.000000   \n",
      "75%    562499.250000      52.000000     185.000000      87.000000   \n",
      "max    749999.000000      79.000000     222.000000     132.000000   \n",
      "\n",
      "            Duration     Heart_Rate      Body_Temp       Calories  \n",
      "count  750000.000000  750000.000000  750000.000000  750000.000000  \n",
      "mean       15.421015      95.483995      40.036253      88.282781  \n",
      "std         8.354095       9.449845       0.779875      62.395349  \n",
      "min         1.000000      67.000000      37.100000       1.000000  \n",
      "25%         8.000000      88.000000      39.600000      34.000000  \n",
      "50%        15.000000      95.000000      40.300000      77.000000  \n",
      "75%        23.000000     103.000000      40.700000     136.000000  \n",
      "max        30.000000     128.000000      41.500000     314.000000  \n",
      "                  id            Age         Height         Weight  \\\n",
      "count  250000.000000  250000.000000  250000.000000  250000.000000   \n",
      "mean   874999.500000      41.452464     174.725624      75.147712   \n",
      "std     72168.927986      15.177769      12.822039      13.979513   \n",
      "min    750000.000000      20.000000     127.000000      39.000000   \n",
      "25%    812499.750000      28.000000     164.000000      63.000000   \n",
      "50%    874999.500000      40.000000     174.000000      74.000000   \n",
      "75%    937499.250000      52.000000     185.000000      87.000000   \n",
      "max    999999.000000      79.000000     219.000000     126.000000   \n",
      "\n",
      "            Duration     Heart_Rate      Body_Temp  \n",
      "count  250000.000000  250000.000000  250000.000000  \n",
      "mean       15.415428      95.479084      40.036093  \n",
      "std         8.349133       9.450161       0.778448  \n",
      "min         1.000000      67.000000      37.100000  \n",
      "25%         8.000000      88.000000      39.600000  \n",
      "50%        15.000000      95.000000      40.300000  \n",
      "75%        23.000000     103.000000      40.600000  \n",
      "max        30.000000     128.000000      41.500000  \n"
     ]
    }
   ],
   "source": [
    "print(train_df.describe())\n",
    "print(test_df.describe())"
   ]
  },
  {
   "cell_type": "code",
   "execution_count": 45,
   "id": "e429d971-679f-4fa8-9553-2a477e5710a2",
   "metadata": {},
   "outputs": [
    {
     "name": "stdout",
     "output_type": "stream",
     "text": [
      "            id     Sex  Age  Height  Weight  Duration  Heart_Rate  Body_Temp  \\\n",
      "0            0    male   36   189.0    82.0      26.0       101.0       41.0   \n",
      "1            1  female   64   163.0    60.0       8.0        85.0       39.7   \n",
      "2            2  female   51   161.0    64.0       7.0        84.0       39.8   \n",
      "3            3    male   20   192.0    90.0      25.0       105.0       40.7   \n",
      "4            4  female   38   166.0    61.0      25.0       102.0       40.6   \n",
      "...        ...     ...  ...     ...     ...       ...         ...        ...   \n",
      "749995  749995    male   28   193.0    97.0      30.0       114.0       40.9   \n",
      "749996  749996  female   64   165.0    63.0      18.0        92.0       40.5   \n",
      "749997  749997    male   60   162.0    67.0      29.0       113.0       40.9   \n",
      "749998  749998    male   45   182.0    91.0      17.0       102.0       40.3   \n",
      "749999  749999  female   39   171.0    65.0      19.0        97.0       40.6   \n",
      "\n",
      "        Calories  \n",
      "0          150.0  \n",
      "1           34.0  \n",
      "2           29.0  \n",
      "3          140.0  \n",
      "4          146.0  \n",
      "...          ...  \n",
      "749995     230.0  \n",
      "749996      96.0  \n",
      "749997     221.0  \n",
      "749998     109.0  \n",
      "749999     103.0  \n",
      "\n",
      "[750000 rows x 9 columns]\n"
     ]
    }
   ],
   "source": [
    "train_df=train_df.drop_duplicates()\n",
    "print(train_df)\n"
   ]
  }
 ],
 "metadata": {
  "kernelspec": {
   "display_name": "Python 3 (ipykernel)",
   "language": "python",
   "name": "python3"
  },
  "language_info": {
   "codemirror_mode": {
    "name": "ipython",
    "version": 3
   },
   "file_extension": ".py",
   "mimetype": "text/x-python",
   "name": "python",
   "nbconvert_exporter": "python",
   "pygments_lexer": "ipython3",
   "version": "3.12.2"
  }
 },
 "nbformat": 4,
 "nbformat_minor": 5
}
